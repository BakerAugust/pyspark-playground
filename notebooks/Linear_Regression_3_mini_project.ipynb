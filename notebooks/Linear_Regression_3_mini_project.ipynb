{
 "cells": [
  {
   "cell_type": "markdown",
   "id": "1e928d82",
   "metadata": {},
   "source": [
    "## Mini project\n",
    "Predict the number of crew members required on a cruiseliner."
   ]
  },
  {
   "cell_type": "code",
   "execution_count": 2,
   "id": "259617a4",
   "metadata": {},
   "outputs": [],
   "source": [
    "import findspark\n",
    "findspark.init('/home/ubuntu/spark-3.2.0-bin-hadoop3.2')\n",
    "from pyspark.sql import SparkSession\n",
    "from pyspark.ml.regression import LinearRegression"
   ]
  },
  {
   "cell_type": "code",
   "execution_count": 3,
   "id": "0c945f76",
   "metadata": {},
   "outputs": [],
   "source": [
    "DATA_PATH = '../data/Spark_for_Machine_Learning/Linear_Regression/'"
   ]
  },
  {
   "cell_type": "code",
   "execution_count": 4,
   "id": "92509bc9",
   "metadata": {},
   "outputs": [
    {
     "name": "stderr",
     "output_type": "stream",
     "text": [
      "WARNING: An illegal reflective access operation has occurred\n",
      "WARNING: Illegal reflective access by org.apache.spark.unsafe.Platform (file:/home/ubuntu/spark-3.2.0-bin-hadoop3.2/jars/spark-unsafe_2.12-3.2.0.jar) to constructor java.nio.DirectByteBuffer(long,int)\n",
      "WARNING: Please consider reporting this to the maintainers of org.apache.spark.unsafe.Platform\n",
      "WARNING: Use --illegal-access=warn to enable warnings of further illegal reflective access operations\n",
      "WARNING: All illegal access operations will be denied in a future release\n",
      "Using Spark's default log4j profile: org/apache/spark/log4j-defaults.properties\n",
      "Setting default log level to \"WARN\".\n",
      "To adjust logging level use sc.setLogLevel(newLevel). For SparkR, use setLogLevel(newLevel).\n",
      "21/12/27 15:14:18 WARN NativeCodeLoader: Unable to load native-hadoop library for your platform... using builtin-java classes where applicable\n"
     ]
    }
   ],
   "source": [
    "spark = SparkSession.builder.appName('lr').getOrCreate()"
   ]
  },
  {
   "cell_type": "code",
   "execution_count": 6,
   "id": "68dc1096",
   "metadata": {},
   "outputs": [
    {
     "name": "stderr",
     "output_type": "stream",
     "text": [
      "                                                                                \r"
     ]
    }
   ],
   "source": [
    "data = spark.read.csv(DATA_PATH + 'cruise_ship_info.csv', inferSchema=True, header=True)"
   ]
  },
  {
   "cell_type": "code",
   "execution_count": 7,
   "id": "876e8ec2",
   "metadata": {},
   "outputs": [
    {
     "name": "stdout",
     "output_type": "stream",
     "text": [
      "root\n",
      " |-- Ship_name: string (nullable = true)\n",
      " |-- Cruise_line: string (nullable = true)\n",
      " |-- Age: integer (nullable = true)\n",
      " |-- Tonnage: double (nullable = true)\n",
      " |-- passengers: double (nullable = true)\n",
      " |-- length: double (nullable = true)\n",
      " |-- cabins: double (nullable = true)\n",
      " |-- passenger_density: double (nullable = true)\n",
      " |-- crew: double (nullable = true)\n",
      "\n"
     ]
    }
   ],
   "source": [
    "data.printSchema()"
   ]
  },
  {
   "cell_type": "code",
   "execution_count": 55,
   "id": "8cb34464",
   "metadata": {},
   "outputs": [],
   "source": [
    "# Check for nans. None!\n",
    "assert data.count()==data.na.drop().count()"
   ]
  },
  {
   "cell_type": "code",
   "execution_count": 70,
   "id": "9ed6072b",
   "metadata": {},
   "outputs": [
    {
     "name": "stdout",
     "output_type": "stream",
     "text": [
      "+-------+------------------+------------------+-----------------+-----------------+------------------+-----------------+\n",
      "|summary|               Age|           Tonnage|       passengers|           length|            cabins|passenger_density|\n",
      "+-------+------------------+------------------+-----------------+-----------------+------------------+-----------------+\n",
      "|  count|               158|               158|              158|              158|               158|              158|\n",
      "|   mean|15.689873417721518| 71.28467088607599|18.45740506329114|8.130632911392404| 8.830000000000005|39.90094936708861|\n",
      "| stddev| 7.615691058751413|37.229540025907866|9.677094775143416|1.793473548054825|4.4714172221480615| 8.63921711391542|\n",
      "|    min|                 4|             2.329|             0.66|             2.79|              0.33|             17.7|\n",
      "|    max|                48|             220.0|             54.0|            11.82|              27.0|            71.43|\n",
      "+-------+------------------+------------------+-----------------+-----------------+------------------+-----------------+\n",
      "\n"
     ]
    }
   ],
   "source": [
    "# All the features are pretty close in scale. Probabily OK to avoid scaling for now.\n",
    "data.select(['Age',\n",
    "         'Tonnage',\n",
    "         'passengers',\n",
    "         'length',\n",
    "         'cabins',\n",
    "         'passenger_density']).describe().show()"
   ]
  },
  {
   "cell_type": "markdown",
   "id": "88ac8c51",
   "metadata": {},
   "source": [
    "## Feature building with VectorAssembler"
   ]
  },
  {
   "cell_type": "code",
   "execution_count": 19,
   "id": "d29a06fb",
   "metadata": {},
   "outputs": [],
   "source": [
    "from pyspark.ml.feature import VectorAssembler, StringIndexer, OneHotEncoder"
   ]
  },
  {
   "cell_type": "code",
   "execution_count": 38,
   "id": "e20e6ce2",
   "metadata": {},
   "outputs": [],
   "source": [
    "string_indexer = StringIndexer(inputCol='Cruise_line', outputCol='output')\n",
    "sr_fit = string_indexer.fit(data.select('Cruise_line'))\n",
    "\n",
    "ohe = OneHotEncoder(inputCol='output',outputCol='ohe_cruise_line')\n",
    "ohe_fit = ohe.fit(sr_fit.transform(data.select('Cruise_line')))"
   ]
  },
  {
   "cell_type": "code",
   "execution_count": 41,
   "id": "1edc649e",
   "metadata": {},
   "outputs": [],
   "source": [
    "processed_data = ohe_fit.transform(sr_fit.transform(data))"
   ]
  },
  {
   "cell_type": "code",
   "execution_count": 45,
   "id": "6af92001",
   "metadata": {},
   "outputs": [
    {
     "data": {
      "text/plain": [
       "['Ship_name',\n",
       " 'Cruise_line',\n",
       " 'Age',\n",
       " 'Tonnage',\n",
       " 'passengers',\n",
       " 'length',\n",
       " 'cabins',\n",
       " 'passenger_density',\n",
       " 'crew',\n",
       " 'output',\n",
       " 'ohe_cruise_line']"
      ]
     },
     "execution_count": 45,
     "metadata": {},
     "output_type": "execute_result"
    }
   ],
   "source": [
    "processed_data.columns"
   ]
  },
  {
   "cell_type": "code",
   "execution_count": 48,
   "id": "cefe5683",
   "metadata": {},
   "outputs": [],
   "source": [
    "feats = ['Age',\n",
    "         'Tonnage',\n",
    "         'passengers',\n",
    "         'length',\n",
    "         'cabins',\n",
    "         'passenger_density',\n",
    "         'ohe_cruise_line']\n",
    "\n",
    "assembler = VectorAssembler(inputCols=feats, outputCol='features')"
   ]
  },
  {
   "cell_type": "code",
   "execution_count": 49,
   "id": "a3fa1469",
   "metadata": {},
   "outputs": [],
   "source": [
    "output = assembler.transform(processed_data)"
   ]
  },
  {
   "cell_type": "code",
   "execution_count": 92,
   "id": "d302606f",
   "metadata": {},
   "outputs": [],
   "source": [
    "train_data, test_data = output.select(['features','crew']).randomSplit([0.7,0.3])"
   ]
  },
  {
   "cell_type": "code",
   "execution_count": 93,
   "id": "5d56d401",
   "metadata": {},
   "outputs": [],
   "source": [
    "lr = LinearRegression(featuresCol='features', labelCol='crew', regParam=0.3)"
   ]
  },
  {
   "cell_type": "code",
   "execution_count": 94,
   "id": "b82266d6",
   "metadata": {},
   "outputs": [],
   "source": [
    "lr_model = lr.fit(train_data)"
   ]
  },
  {
   "cell_type": "code",
   "execution_count": 95,
   "id": "c48ae197",
   "metadata": {},
   "outputs": [],
   "source": [
    "test_results = lr_model.evaluate(test_data)"
   ]
  },
  {
   "cell_type": "code",
   "execution_count": 96,
   "id": "e43fa994",
   "metadata": {},
   "outputs": [
    {
     "data": {
      "text/plain": [
       "0.8518323449892565"
      ]
     },
     "execution_count": 96,
     "metadata": {},
     "output_type": "execute_result"
    }
   ],
   "source": [
    "test_results.rootMeanSquaredError"
   ]
  },
  {
   "cell_type": "code",
   "execution_count": 97,
   "id": "6574ea00",
   "metadata": {},
   "outputs": [
    {
     "data": {
      "text/plain": [
       "0.9316308562213783"
      ]
     },
     "execution_count": 97,
     "metadata": {},
     "output_type": "execute_result"
    }
   ],
   "source": [
    "test_results.r2"
   ]
  },
  {
   "cell_type": "code",
   "execution_count": 98,
   "id": "420c0941",
   "metadata": {},
   "outputs": [
    {
     "name": "stdout",
     "output_type": "stream",
     "text": [
      "+--------------------+\n",
      "|           residuals|\n",
      "+--------------------+\n",
      "| 0.41023786206403656|\n",
      "| -0.6194615412331412|\n",
      "| -0.8752598173479829|\n",
      "| -0.3374104999439549|\n",
      "| -0.3225801734693601|\n",
      "|-0.29746460887420945|\n",
      "|-0.26709436770893014|\n",
      "|-0.34190924712629034|\n",
      "| -1.4957817662743818|\n",
      "|-0.08850795116183718|\n",
      "|  1.4368866185429097|\n",
      "| -0.8990229387502584|\n",
      "| -1.0660028882238173|\n",
      "| 0.06555187511516358|\n",
      "|   -1.26889021575305|\n",
      "| 0.14971298153195178|\n",
      "| 0.01848263137760764|\n",
      "|  1.0128209982168492|\n",
      "|   0.315993709939443|\n",
      "| -1.2086433942138672|\n",
      "+--------------------+\n",
      "only showing top 20 rows\n",
      "\n"
     ]
    }
   ],
   "source": [
    "test_results.residuals.show()"
   ]
  },
  {
   "cell_type": "code",
   "execution_count": 99,
   "id": "a8a90ff2",
   "metadata": {},
   "outputs": [
    {
     "data": {
      "text/plain": [
       "DenseVector([-0.0152, 0.0267, 0.0587, 0.4963, 0.2492, 0.0064, -1.0885, 0.6574, -0.0535, -0.3481, 0.4759, -0.4422, 0.5535, -0.0919, -0.1282, 1.4871, -0.346, -0.2757, -0.5233, 0.267, 0.1452, -0.1731, -0.3013, 0.0, 0.0])"
      ]
     },
     "execution_count": 99,
     "metadata": {},
     "output_type": "execute_result"
    }
   ],
   "source": [
    "lr_model.coefficients"
   ]
  },
  {
   "cell_type": "code",
   "execution_count": 100,
   "id": "7de89de7",
   "metadata": {},
   "outputs": [
    {
     "data": {
      "text/plain": [
       "-1.3554636384284837"
      ]
     },
     "execution_count": 100,
     "metadata": {},
     "output_type": "execute_result"
    }
   ],
   "source": [
    "lr_model.intercept"
   ]
  },
  {
   "cell_type": "code",
   "execution_count": null,
   "id": "a2cd289f",
   "metadata": {},
   "outputs": [],
   "source": []
  }
 ],
 "metadata": {
  "kernelspec": {
   "display_name": "Python 3 (ipykernel)",
   "language": "python",
   "name": "python3"
  },
  "language_info": {
   "codemirror_mode": {
    "name": "ipython",
    "version": 3
   },
   "file_extension": ".py",
   "mimetype": "text/x-python",
   "name": "python",
   "nbconvert_exporter": "python",
   "pygments_lexer": "ipython3",
   "version": "3.8.10"
  }
 },
 "nbformat": 4,
 "nbformat_minor": 5
}
