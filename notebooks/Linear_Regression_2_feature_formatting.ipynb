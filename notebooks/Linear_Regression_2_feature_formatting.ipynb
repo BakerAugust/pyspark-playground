{
 "cells": [
  {
   "cell_type": "code",
   "execution_count": 3,
   "id": "259617a4",
   "metadata": {},
   "outputs": [],
   "source": [
    "import findspark\n",
    "findspark.init('/home/ubuntu/spark-3.2.0-bin-hadoop3.2')\n",
    "from pyspark.sql import SparkSession\n",
    "from pyspark.ml.regression import LinearRegression"
   ]
  },
  {
   "cell_type": "code",
   "execution_count": 4,
   "id": "0c945f76",
   "metadata": {},
   "outputs": [],
   "source": [
    "DATA_PATH = '../data/Spark_for_Machine_Learning/Linear_Regression/'"
   ]
  },
  {
   "cell_type": "code",
   "execution_count": 5,
   "id": "92509bc9",
   "metadata": {},
   "outputs": [
    {
     "name": "stderr",
     "output_type": "stream",
     "text": [
      "WARNING: An illegal reflective access operation has occurred\n",
      "WARNING: Illegal reflective access by org.apache.spark.unsafe.Platform (file:/home/ubuntu/spark-3.2.0-bin-hadoop3.2/jars/spark-unsafe_2.12-3.2.0.jar) to constructor java.nio.DirectByteBuffer(long,int)\n",
      "WARNING: Please consider reporting this to the maintainers of org.apache.spark.unsafe.Platform\n",
      "WARNING: Use --illegal-access=warn to enable warnings of further illegal reflective access operations\n",
      "WARNING: All illegal access operations will be denied in a future release\n",
      "Using Spark's default log4j profile: org/apache/spark/log4j-defaults.properties\n",
      "Setting default log level to \"WARN\".\n",
      "To adjust logging level use sc.setLogLevel(newLevel). For SparkR, use setLogLevel(newLevel).\n",
      "21/12/27 14:56:45 WARN NativeCodeLoader: Unable to load native-hadoop library for your platform... using builtin-java classes where applicable\n"
     ]
    }
   ],
   "source": [
    "spark = SparkSession.builder.appName('lr').getOrCreate()"
   ]
  },
  {
   "cell_type": "code",
   "execution_count": 7,
   "id": "68dc1096",
   "metadata": {},
   "outputs": [
    {
     "name": "stderr",
     "output_type": "stream",
     "text": [
      "\r",
      "[Stage 0:>                                                          (0 + 1) / 1]\r",
      "\r",
      "                                                                                \r"
     ]
    }
   ],
   "source": [
    "data = spark.read.csv(DATA_PATH + 'Ecommerce_Customers.csv', inferSchema=True, header=True)"
   ]
  },
  {
   "cell_type": "code",
   "execution_count": 8,
   "id": "876e8ec2",
   "metadata": {},
   "outputs": [
    {
     "name": "stdout",
     "output_type": "stream",
     "text": [
      "root\n",
      " |-- Email: string (nullable = true)\n",
      " |-- Address: string (nullable = true)\n",
      " |-- Avatar: string (nullable = true)\n",
      " |-- Avg Session Length: double (nullable = true)\n",
      " |-- Time on App: double (nullable = true)\n",
      " |-- Time on Website: double (nullable = true)\n",
      " |-- Length of Membership: double (nullable = true)\n",
      " |-- Yearly Amount Spent: double (nullable = true)\n",
      "\n"
     ]
    }
   ],
   "source": [
    "data.printSchema()"
   ]
  },
  {
   "cell_type": "markdown",
   "id": "88ac8c51",
   "metadata": {},
   "source": [
    "## Feature building with VectorAssembler"
   ]
  },
  {
   "cell_type": "code",
   "execution_count": 9,
   "id": "d29a06fb",
   "metadata": {},
   "outputs": [],
   "source": [
    "from pyspark.ml.feature import VectorAssembler"
   ]
  },
  {
   "cell_type": "code",
   "execution_count": 10,
   "id": "6af92001",
   "metadata": {},
   "outputs": [
    {
     "data": {
      "text/plain": [
       "['Email',\n",
       " 'Address',\n",
       " 'Avatar',\n",
       " 'Avg Session Length',\n",
       " 'Time on App',\n",
       " 'Time on Website',\n",
       " 'Length of Membership',\n",
       " 'Yearly Amount Spent']"
      ]
     },
     "execution_count": 10,
     "metadata": {},
     "output_type": "execute_result"
    }
   ],
   "source": [
    "data.columns"
   ]
  },
  {
   "cell_type": "code",
   "execution_count": 12,
   "id": "cefe5683",
   "metadata": {},
   "outputs": [],
   "source": [
    "feats = ['Avg Session Length',\n",
    "         'Time on App',\n",
    "         'Time on Website',\n",
    "         'Length of Membership',]\n",
    "\n",
    "assembler = VectorAssembler(inputCols=feats, outputCol='features')"
   ]
  },
  {
   "cell_type": "code",
   "execution_count": 13,
   "id": "a3fa1469",
   "metadata": {},
   "outputs": [],
   "source": [
    "output = assembler.transform(data)"
   ]
  },
  {
   "cell_type": "code",
   "execution_count": 15,
   "id": "d302606f",
   "metadata": {},
   "outputs": [],
   "source": [
    "train_data, test_data = output.select(['features','Yearly Amount Spent']).randomSplit([0.7,0.3])"
   ]
  },
  {
   "cell_type": "code",
   "execution_count": 16,
   "id": "5d56d401",
   "metadata": {},
   "outputs": [],
   "source": [
    "lr = LinearRegression(featuresCol='features', labelCol='Yearly Amount Spent', regParam=0.3)"
   ]
  },
  {
   "cell_type": "code",
   "execution_count": 17,
   "id": "b82266d6",
   "metadata": {},
   "outputs": [
    {
     "name": "stderr",
     "output_type": "stream",
     "text": [
      "21/12/27 15:07:14 WARN InstanceBuilder$NativeBLAS: Failed to load implementation from:dev.ludovic.netlib.blas.JNIBLAS\n",
      "21/12/27 15:07:14 WARN InstanceBuilder$NativeBLAS: Failed to load implementation from:dev.ludovic.netlib.blas.ForeignLinkerBLAS\n",
      "21/12/27 15:07:14 WARN InstanceBuilder$NativeLAPACK: Failed to load implementation from:dev.ludovic.netlib.lapack.JNILAPACK\n"
     ]
    }
   ],
   "source": [
    "lr_model = lr.fit(train_data)"
   ]
  },
  {
   "cell_type": "code",
   "execution_count": 20,
   "id": "c48ae197",
   "metadata": {},
   "outputs": [],
   "source": [
    "test_results = lr_model.evaluate(test_data)"
   ]
  },
  {
   "cell_type": "code",
   "execution_count": 21,
   "id": "e43fa994",
   "metadata": {},
   "outputs": [
    {
     "data": {
      "text/plain": [
       "9.989903900044967"
      ]
     },
     "execution_count": 21,
     "metadata": {},
     "output_type": "execute_result"
    }
   ],
   "source": [
    "test_results.rootMeanSquaredError"
   ]
  },
  {
   "cell_type": "code",
   "execution_count": 22,
   "id": "6574ea00",
   "metadata": {},
   "outputs": [
    {
     "data": {
      "text/plain": [
       "0.9839337487255126"
      ]
     },
     "execution_count": 22,
     "metadata": {},
     "output_type": "execute_result"
    }
   ],
   "source": [
    "test_results.r2"
   ]
  },
  {
   "cell_type": "code",
   "execution_count": 25,
   "id": "420c0941",
   "metadata": {},
   "outputs": [
    {
     "name": "stdout",
     "output_type": "stream",
     "text": [
      "+-------------------+\n",
      "|          residuals|\n",
      "+-------------------+\n",
      "| 10.893085975886379|\n",
      "| 0.7745048777134684|\n",
      "|  7.798682311773064|\n",
      "|  4.439080841447435|\n",
      "| -5.150604517712338|\n",
      "|-12.218883267842727|\n",
      "|-20.354224710384074|\n",
      "| -3.401592658410209|\n",
      "| 23.699098048025462|\n",
      "| 4.1348669779489455|\n",
      "| -2.914727282233798|\n",
      "|-7.3452891625805705|\n",
      "| -4.928336480799317|\n",
      "|-0.7835574291488001|\n",
      "| 7.0560341941206275|\n",
      "|-0.6828863907177265|\n",
      "|-2.1564072359653323|\n",
      "|-1.6170897908404527|\n",
      "|  8.864430822186307|\n",
      "|-1.9606716818207133|\n",
      "+-------------------+\n",
      "only showing top 20 rows\n",
      "\n"
     ]
    }
   ],
   "source": [
    "test_results.residuals.show()"
   ]
  },
  {
   "cell_type": "code",
   "execution_count": 28,
   "id": "256b2fce",
   "metadata": {},
   "outputs": [],
   "source": [
    "predictions = lr_model.transform(test_data.select('features'))"
   ]
  },
  {
   "cell_type": "code",
   "execution_count": 29,
   "id": "30bfba16",
   "metadata": {},
   "outputs": [
    {
     "name": "stdout",
     "output_type": "stream",
     "text": [
      "+--------------------+------------------+\n",
      "|            features|        prediction|\n",
      "+--------------------+------------------+\n",
      "|[29.5324289670579...| 397.7472650967411|\n",
      "|[30.5743636841713...| 441.2899088803522|\n",
      "|[30.9716756438877...|486.83992744511966|\n",
      "|[31.0472221394875...|388.05831834757396|\n",
      "|[31.0613251567161...|492.70606257561394|\n",
      "|[31.0662181616375...| 461.1521764755171|\n",
      "|[31.1239743499119...|507.30127855014985|\n",
      "|[31.2681042107507...|426.87212583223413|\n",
      "|[31.2834474760581...|  568.081991377642|\n",
      "|[31.3662121671876...|  426.454015578536|\n",
      "|[31.4252268808548...| 533.6814459369957|\n",
      "|[31.4474464941278...| 425.9480312578046|\n",
      "|[31.5147378578019...|494.74082447726073|\n",
      "|[31.5761319713222...| 542.0101414184771|\n",
      "|[31.6548096756927...| 468.2073895334279|\n",
      "|[31.6610498227460...|417.04123997061856|\n",
      "|[31.7216523605090...|  349.933333867838|\n",
      "|[31.8186165667690...| 448.0357631609761|\n",
      "|[31.8512531286083...| 464.1278158446121|\n",
      "|[31.8530748017465...| 461.2457951441727|\n",
      "+--------------------+------------------+\n",
      "only showing top 20 rows\n",
      "\n"
     ]
    }
   ],
   "source": [
    "predictions.show()"
   ]
  },
  {
   "cell_type": "code",
   "execution_count": null,
   "id": "e3803b5d",
   "metadata": {},
   "outputs": [],
   "source": []
  }
 ],
 "metadata": {
  "kernelspec": {
   "display_name": "Python 3 (ipykernel)",
   "language": "python",
   "name": "python3"
  },
  "language_info": {
   "codemirror_mode": {
    "name": "ipython",
    "version": 3
   },
   "file_extension": ".py",
   "mimetype": "text/x-python",
   "name": "python",
   "nbconvert_exporter": "python",
   "pygments_lexer": "ipython3",
   "version": "3.8.10"
  }
 },
 "nbformat": 4,
 "nbformat_minor": 5
}
