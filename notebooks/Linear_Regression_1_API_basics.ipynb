{
 "cells": [
  {
   "cell_type": "code",
   "execution_count": 1,
   "id": "259617a4",
   "metadata": {},
   "outputs": [],
   "source": [
    "import findspark\n",
    "findspark.init('/home/ubuntu/spark-3.2.0-bin-hadoop3.2')\n",
    "from pyspark.sql import SparkSession"
   ]
  },
  {
   "cell_type": "code",
   "execution_count": 6,
   "id": "0c945f76",
   "metadata": {},
   "outputs": [],
   "source": [
    "DATA_PATH = '../data/Spark_for_Machine_Learning/Linear_Regression/'"
   ]
  },
  {
   "cell_type": "code",
   "execution_count": 2,
   "id": "92509bc9",
   "metadata": {},
   "outputs": [
    {
     "name": "stderr",
     "output_type": "stream",
     "text": [
      "WARNING: An illegal reflective access operation has occurred\n",
      "WARNING: Illegal reflective access by org.apache.spark.unsafe.Platform (file:/home/ubuntu/spark-3.2.0-bin-hadoop3.2/jars/spark-unsafe_2.12-3.2.0.jar) to constructor java.nio.DirectByteBuffer(long,int)\n",
      "WARNING: Please consider reporting this to the maintainers of org.apache.spark.unsafe.Platform\n",
      "WARNING: Use --illegal-access=warn to enable warnings of further illegal reflective access operations\n",
      "WARNING: All illegal access operations will be denied in a future release\n",
      "Using Spark's default log4j profile: org/apache/spark/log4j-defaults.properties\n",
      "Setting default log level to \"WARN\".\n",
      "To adjust logging level use sc.setLogLevel(newLevel). For SparkR, use setLogLevel(newLevel).\n",
      "21/12/27 14:29:04 WARN NativeCodeLoader: Unable to load native-hadoop library for your platform... using builtin-java classes where applicable\n"
     ]
    }
   ],
   "source": [
    "spark = SparkSession.builder.appName('lr').getOrCreate()"
   ]
  },
  {
   "cell_type": "code",
   "execution_count": 5,
   "id": "a5bce625",
   "metadata": {},
   "outputs": [],
   "source": [
    "from pyspark.ml.regression import LinearRegression"
   ]
  },
  {
   "cell_type": "code",
   "execution_count": 24,
   "id": "68dc1096",
   "metadata": {},
   "outputs": [],
   "source": [
    "data = spark.read.format('libsvm').load(DATA_PATH + 'sample_linear_regression_data.txt', numFeatures=10)"
   ]
  },
  {
   "cell_type": "code",
   "execution_count": 26,
   "id": "3fade744",
   "metadata": {},
   "outputs": [],
   "source": [
    "train_data, test_data = data.randomSplit([0.7,0.3])"
   ]
  },
  {
   "cell_type": "code",
   "execution_count": 35,
   "id": "5d56d401",
   "metadata": {},
   "outputs": [],
   "source": [
    "lr = LinearRegression(featuresCol='features', labelCol='label', regParam=0.3)"
   ]
  },
  {
   "cell_type": "code",
   "execution_count": 36,
   "id": "b82266d6",
   "metadata": {},
   "outputs": [],
   "source": [
    "lr_model = lr.fit(train_data)"
   ]
  },
  {
   "cell_type": "code",
   "execution_count": 37,
   "id": "c48ae197",
   "metadata": {},
   "outputs": [],
   "source": [
    "test_results = lr_model.evaluate(test_data)"
   ]
  },
  {
   "cell_type": "code",
   "execution_count": 38,
   "id": "e43fa994",
   "metadata": {},
   "outputs": [
    {
     "data": {
      "text/plain": [
       "10.359035850767915"
      ]
     },
     "execution_count": 38,
     "metadata": {},
     "output_type": "execute_result"
    }
   ],
   "source": [
    "test_results.rootMeanSquaredError"
   ]
  },
  {
   "cell_type": "code",
   "execution_count": 39,
   "id": "d9a9cd52",
   "metadata": {},
   "outputs": [],
   "source": [
    "predictions = lr_model.transform(test_data.select('features'))"
   ]
  },
  {
   "cell_type": "code",
   "execution_count": 41,
   "id": "6f2f0ff7",
   "metadata": {},
   "outputs": [
    {
     "name": "stdout",
     "output_type": "stream",
     "text": [
      "+--------------------+--------------------+\n",
      "|            features|          prediction|\n",
      "+--------------------+--------------------+\n",
      "|(10,[0,1,2,3,4,5,...| -1.7944927371455064|\n",
      "|(10,[0,1,2,3,4,5,...|  -1.877188697052202|\n",
      "|(10,[0,1,2,3,4,5,...| -0.6698302309635132|\n",
      "|(10,[0,1,2,3,4,5,...|     1.7138874182453|\n",
      "|(10,[0,1,2,3,4,5,...|  0.5636725790873907|\n",
      "|(10,[0,1,2,3,4,5,...| 0.46981146124119655|\n",
      "|(10,[0,1,2,3,4,5,...|  -1.937249295266744|\n",
      "|(10,[0,1,2,3,4,5,...|-0.08280581175993551|\n",
      "|(10,[0,1,2,3,4,5,...|-0.01110744481833...|\n",
      "|(10,[0,1,2,3,4,5,...|   2.044260851754381|\n",
      "|(10,[0,1,2,3,4,5,...|  1.8094445646785746|\n",
      "|(10,[0,1,2,3,4,5,...|   2.220915403211179|\n",
      "|(10,[0,1,2,3,4,5,...|   4.044279346630699|\n",
      "|(10,[0,1,2,3,4,5,...|   3.337524694563501|\n",
      "|(10,[0,1,2,3,4,5,...|  2.5508405493526483|\n",
      "|(10,[0,1,2,3,4,5,...|   2.195194168883061|\n",
      "|(10,[0,1,2,3,4,5,...|-0.40121462226245386|\n",
      "|(10,[0,1,2,3,4,5,...|  4.5637293008909205|\n",
      "|(10,[0,1,2,3,4,5,...| -0.6166116831602434|\n",
      "|(10,[0,1,2,3,4,5,...| -0.8941947788508949|\n",
      "+--------------------+--------------------+\n",
      "only showing top 20 rows\n",
      "\n"
     ]
    }
   ],
   "source": [
    "predictions.show()"
   ]
  },
  {
   "cell_type": "code",
   "execution_count": null,
   "id": "6574ea00",
   "metadata": {},
   "outputs": [],
   "source": []
  }
 ],
 "metadata": {
  "kernelspec": {
   "display_name": "Python 3 (ipykernel)",
   "language": "python",
   "name": "python3"
  },
  "language_info": {
   "codemirror_mode": {
    "name": "ipython",
    "version": 3
   },
   "file_extension": ".py",
   "mimetype": "text/x-python",
   "name": "python",
   "nbconvert_exporter": "python",
   "pygments_lexer": "ipython3",
   "version": "3.8.10"
  }
 },
 "nbformat": 4,
 "nbformat_minor": 5
}
